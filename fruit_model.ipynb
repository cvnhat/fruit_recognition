{
 "cells": [
  {
   "cell_type": "code",
   "execution_count": 1,
   "metadata": {},
   "outputs": [
    {
     "name": "stderr",
     "output_type": "stream",
     "text": [
      "Using TensorFlow backend.\n",
      "C:\\Users\\LEGION\\anaconda3\\lib\\site-packages\\tensorflow\\python\\framework\\dtypes.py:516: FutureWarning: Passing (type, 1) or '1type' as a synonym of type is deprecated; in a future version of numpy, it will be understood as (type, (1,)) / '(1,)type'.\n",
      "  _np_qint8 = np.dtype([(\"qint8\", np.int8, 1)])\n",
      "C:\\Users\\LEGION\\anaconda3\\lib\\site-packages\\tensorflow\\python\\framework\\dtypes.py:517: FutureWarning: Passing (type, 1) or '1type' as a synonym of type is deprecated; in a future version of numpy, it will be understood as (type, (1,)) / '(1,)type'.\n",
      "  _np_quint8 = np.dtype([(\"quint8\", np.uint8, 1)])\n",
      "C:\\Users\\LEGION\\anaconda3\\lib\\site-packages\\tensorflow\\python\\framework\\dtypes.py:518: FutureWarning: Passing (type, 1) or '1type' as a synonym of type is deprecated; in a future version of numpy, it will be understood as (type, (1,)) / '(1,)type'.\n",
      "  _np_qint16 = np.dtype([(\"qint16\", np.int16, 1)])\n",
      "C:\\Users\\LEGION\\anaconda3\\lib\\site-packages\\tensorflow\\python\\framework\\dtypes.py:519: FutureWarning: Passing (type, 1) or '1type' as a synonym of type is deprecated; in a future version of numpy, it will be understood as (type, (1,)) / '(1,)type'.\n",
      "  _np_quint16 = np.dtype([(\"quint16\", np.uint16, 1)])\n",
      "C:\\Users\\LEGION\\anaconda3\\lib\\site-packages\\tensorflow\\python\\framework\\dtypes.py:520: FutureWarning: Passing (type, 1) or '1type' as a synonym of type is deprecated; in a future version of numpy, it will be understood as (type, (1,)) / '(1,)type'.\n",
      "  _np_qint32 = np.dtype([(\"qint32\", np.int32, 1)])\n",
      "C:\\Users\\LEGION\\anaconda3\\lib\\site-packages\\tensorflow\\python\\framework\\dtypes.py:525: FutureWarning: Passing (type, 1) or '1type' as a synonym of type is deprecated; in a future version of numpy, it will be understood as (type, (1,)) / '(1,)type'.\n",
      "  np_resource = np.dtype([(\"resource\", np.ubyte, 1)])\n",
      "C:\\Users\\LEGION\\anaconda3\\lib\\site-packages\\tensorboard\\compat\\tensorflow_stub\\dtypes.py:541: FutureWarning: Passing (type, 1) or '1type' as a synonym of type is deprecated; in a future version of numpy, it will be understood as (type, (1,)) / '(1,)type'.\n",
      "  _np_qint8 = np.dtype([(\"qint8\", np.int8, 1)])\n",
      "C:\\Users\\LEGION\\anaconda3\\lib\\site-packages\\tensorboard\\compat\\tensorflow_stub\\dtypes.py:542: FutureWarning: Passing (type, 1) or '1type' as a synonym of type is deprecated; in a future version of numpy, it will be understood as (type, (1,)) / '(1,)type'.\n",
      "  _np_quint8 = np.dtype([(\"quint8\", np.uint8, 1)])\n",
      "C:\\Users\\LEGION\\anaconda3\\lib\\site-packages\\tensorboard\\compat\\tensorflow_stub\\dtypes.py:543: FutureWarning: Passing (type, 1) or '1type' as a synonym of type is deprecated; in a future version of numpy, it will be understood as (type, (1,)) / '(1,)type'.\n",
      "  _np_qint16 = np.dtype([(\"qint16\", np.int16, 1)])\n",
      "C:\\Users\\LEGION\\anaconda3\\lib\\site-packages\\tensorboard\\compat\\tensorflow_stub\\dtypes.py:544: FutureWarning: Passing (type, 1) or '1type' as a synonym of type is deprecated; in a future version of numpy, it will be understood as (type, (1,)) / '(1,)type'.\n",
      "  _np_quint16 = np.dtype([(\"quint16\", np.uint16, 1)])\n",
      "C:\\Users\\LEGION\\anaconda3\\lib\\site-packages\\tensorboard\\compat\\tensorflow_stub\\dtypes.py:545: FutureWarning: Passing (type, 1) or '1type' as a synonym of type is deprecated; in a future version of numpy, it will be understood as (type, (1,)) / '(1,)type'.\n",
      "  _np_qint32 = np.dtype([(\"qint32\", np.int32, 1)])\n",
      "C:\\Users\\LEGION\\anaconda3\\lib\\site-packages\\tensorboard\\compat\\tensorflow_stub\\dtypes.py:550: FutureWarning: Passing (type, 1) or '1type' as a synonym of type is deprecated; in a future version of numpy, it will be understood as (type, (1,)) / '(1,)type'.\n",
      "  np_resource = np.dtype([(\"resource\", np.ubyte, 1)])\n"
     ]
    }
   ],
   "source": [
    "import cv2\n",
    "import numpy\n",
    "from keras.models import Sequential\n",
    "from keras.layers import Dense, Dropout, Flatten\n",
    "from keras.layers import Conv2D\n",
    "from keras.optimizers import Adam\n",
    "from keras.layers import MaxPooling2D\n",
    "from keras.preprocessing.image import ImageDataGenerator"
   ]
  },
  {
   "cell_type": "code",
   "execution_count": 2,
   "metadata": {},
   "outputs": [],
   "source": [
    "img_width, img_height = 100, 100\n",
    "batch_size = 64"
   ]
  },
  {
   "cell_type": "code",
   "execution_count": 3,
   "metadata": {},
   "outputs": [],
   "source": [
    "train_data_dir = 'C:/Users/LEGION/OneDrive/Desktop/fruits-360/Training'\n",
    "test_data_dir = 'C:/Users/LEGION/OneDrive/Desktop/fruits-360/Test'"
   ]
  },
  {
   "cell_type": "code",
   "execution_count": 4,
   "metadata": {},
   "outputs": [],
   "source": [
    "test_datagen=ImageDataGenerator(rescale=1./255)"
   ]
  },
  {
   "cell_type": "code",
   "execution_count": 5,
   "metadata": {},
   "outputs": [],
   "source": [
    "train_datagen = ImageDataGenerator(\n",
    "    rescale=1. / 255,\n",
    "    shear_range=0.2,\n",
    "    zoom_range=0.2,\n",
    "    horizontal_flip=True)"
   ]
  },
  {
   "cell_type": "code",
   "execution_count": 6,
   "metadata": {},
   "outputs": [
    {
     "name": "stdout",
     "output_type": "stream",
     "text": [
      "Found 67692 images belonging to 131 classes.\n"
     ]
    }
   ],
   "source": [
    "train_generator = train_datagen.flow_from_directory(\n",
    "    train_data_dir,\n",
    "    target_size=(img_height, img_width),\n",
    "    batch_size=batch_size,\n",
    "    #class_mode='categorical')\n",
    "    class_mode='categorical')"
   ]
  },
  {
   "cell_type": "code",
   "execution_count": 7,
   "metadata": {},
   "outputs": [
    {
     "name": "stdout",
     "output_type": "stream",
     "text": [
      "Found 22688 images belonging to 131 classes.\n"
     ]
    }
   ],
   "source": [
    "test_generator = test_datagen.flow_from_directory(\n",
    "    test_data_dir,\n",
    "    target_size=(img_height, img_width),\n",
    "    batch_size=batch_size,\n",
    "    #class_mode='categorical')\n",
    "    class_mode='categorical')"
   ]
  },
  {
   "cell_type": "code",
   "execution_count": 8,
   "metadata": {},
   "outputs": [],
   "source": [
    "fruit_model=Sequential()\n",
    "fruit_model.add(Conv2D(64, kernel_size=(3, 3), activation='relu', input_shape=(img_width, img_height,3)))\n",
    "fruit_model.add(MaxPooling2D(pool_size=(2, 2)))\n",
    "fruit_model.add(Dropout(0.2))\n",
    "\n",
    "fruit_model.add(Conv2D(32, kernel_size=(3, 3), activation='relu'))\n",
    "fruit_model.add(MaxPooling2D(pool_size=(2, 2)))\n",
    "fruit_model.add(Dropout(0.2))\n",
    "\n",
    "fruit_model.add(Conv2D(64, kernel_size=(3, 3), activation='relu'))\n",
    "fruit_model.add(MaxPooling2D(pool_size=(2, 2)))\n",
    "fruit_model.add(Dropout(0.2))\n",
    "\n",
    "fruit_model.add(Flatten())\n",
    "\n",
    "fruit_model.add(Dense(512, activation='relu'))\n",
    "fruit_model.add(Dense(131, activation='softmax'))"
   ]
  },
  {
   "cell_type": "code",
   "execution_count": 9,
   "metadata": {},
   "outputs": [
    {
     "name": "stdout",
     "output_type": "stream",
     "text": [
      "WARNING:tensorflow:From C:\\Users\\LEGION\\anaconda3\\lib\\site-packages\\keras\\backend\\tensorflow_backend.py:422: The name tf.global_variables is deprecated. Please use tf.compat.v1.global_variables instead.\n",
      "\n",
      "Epoch 1/5\n",
      "1057/1057 [==============================] - 506s 479ms/step - loss: 1.8273 - accuracy: 0.5276 - val_loss: 0.8729 - val_accuracy: 0.7504\n",
      "Epoch 2/5\n",
      "1057/1057 [==============================] - 170s 161ms/step - loss: 0.3899 - accuracy: 0.8777 - val_loss: 1.2159 - val_accuracy: 0.8286\n",
      "Epoch 3/5\n",
      "1057/1057 [==============================] - 165s 156ms/step - loss: 0.2059 - accuracy: 0.9349 - val_loss: 0.1675 - val_accuracy: 0.8836\n",
      "Epoch 4/5\n",
      "1057/1057 [==============================] - 165s 156ms/step - loss: 0.1370 - accuracy: 0.9566 - val_loss: 0.3061 - val_accuracy: 0.8934\n",
      "Epoch 5/5\n",
      "1057/1057 [==============================] - 165s 156ms/step - loss: 0.0963 - accuracy: 0.9698 - val_loss: 0.5390 - val_accuracy: 0.8609\n"
     ]
    }
   ],
   "source": [
    "fruit_model.compile(loss='categorical_crossentropy',optimizer=Adam(lr=0.0001, decay=1e-6),metrics=['accuracy'])\n",
    "fruit_model_info = fruit_model.fit_generator(\n",
    "        train_generator,\n",
    "        steps_per_epoch=67692 // 64,\n",
    "        epochs=5,\n",
    "        validation_data=test_generator,\n",
    "        validation_steps=22.688 // 64)\n",
    "fruit_model.save_weights('fruit_model.h5')"
   ]
  },
  {
   "cell_type": "code",
   "execution_count": 61,
   "metadata": {},
   "outputs": [
    {
     "name": "stdout",
     "output_type": "stream",
     "text": [
      "[0. 0. 0. 0. 0. 0. 0. 0. 0. 0. 0. 0. 0. 0. 0. 0. 0. 0. 0. 0. 0. 0. 0. 0.\n",
      " 0. 0. 0. 0. 0. 0. 0. 0. 0. 0. 0. 0. 0. 0. 0. 0. 0. 0. 0. 0. 0. 1. 0. 0.\n",
      " 0. 0. 0. 0. 0. 0. 0. 0. 0. 0. 0. 0. 0. 0. 0. 0. 0. 0. 0. 0. 0. 0. 0. 0.\n",
      " 0. 0. 0. 0. 0. 0. 0. 0. 0. 0. 0. 0. 0. 0. 0. 0. 0. 0. 0. 0. 0. 0. 0. 0.\n",
      " 0. 0. 0. 0. 0. 0. 0. 0. 0. 0. 0. 0. 0. 0. 0. 0. 0. 0. 0. 0. 0. 0. 0. 0.\n",
      " 0. 0. 0. 0. 0. 0. 0. 0. 0. 0. 0.]\n",
      "[[[[1. 1. 1.]\n",
      "   [1. 1. 1.]\n",
      "   [1. 1. 1.]\n",
      "   ...\n",
      "   [1. 1. 1.]\n",
      "   [1. 1. 1.]\n",
      "   [1. 1. 1.]]\n",
      "\n",
      "  [[1. 1. 1.]\n",
      "   [1. 1. 1.]\n",
      "   [1. 1. 1.]\n",
      "   ...\n",
      "   [1. 1. 1.]\n",
      "   [1. 1. 1.]\n",
      "   [1. 1. 1.]]\n",
      "\n",
      "  [[1. 1. 1.]\n",
      "   [1. 1. 1.]\n",
      "   [1. 1. 1.]\n",
      "   ...\n",
      "   [1. 1. 1.]\n",
      "   [1. 1. 1.]\n",
      "   [1. 1. 1.]]\n",
      "\n",
      "  ...\n",
      "\n",
      "  [[1. 1. 1.]\n",
      "   [1. 1. 1.]\n",
      "   [1. 1. 1.]\n",
      "   ...\n",
      "   [1. 1. 1.]\n",
      "   [1. 1. 1.]\n",
      "   [1. 1. 1.]]\n",
      "\n",
      "  [[1. 1. 1.]\n",
      "   [1. 1. 1.]\n",
      "   [1. 1. 1.]\n",
      "   ...\n",
      "   [1. 1. 1.]\n",
      "   [1. 1. 1.]\n",
      "   [1. 1. 1.]]\n",
      "\n",
      "  [[1. 1. 1.]\n",
      "   [1. 1. 1.]\n",
      "   [1. 1. 1.]\n",
      "   ...\n",
      "   [1. 1. 1.]\n",
      "   [1. 1. 1.]\n",
      "   [1. 1. 1.]]]]\n",
      "[[1.80695656e-06 8.51029472e-05 1.46715081e-23 1.55750933e-29\n",
      "  3.32177100e-25 8.69202352e-30 1.50561914e-06 8.70582226e-05\n",
      "  1.55098677e-11 5.02738612e-06 1.59246311e-10 9.57664597e-08\n",
      "  4.92421913e-13 1.04759910e-13 3.87134010e-18 6.68555365e-26\n",
      "  2.49634237e-18 5.51613732e-09 2.56764615e-05 1.03850765e-20\n",
      "  3.36319096e-21 3.58534351e-15 1.16403745e-26 2.53888019e-23\n",
      "  1.51811830e-15 4.29242631e-20 2.45636267e-09 4.39409232e-05\n",
      "  1.55010848e-11 2.17889335e-11 1.85926691e-01 1.75875043e-17\n",
      "  2.97018323e-06 4.57638654e-14 2.95056568e-13 4.65068341e-20\n",
      "  6.71775014e-23 3.36065830e-04 6.22447840e-12 1.31741609e-14\n",
      "  4.56441959e-13 9.73250786e-11 3.99633582e-24 1.63634551e-14\n",
      "  2.29356706e-21 4.61359173e-02 1.17306744e-28 1.40779039e-29\n",
      "  6.27122652e-20 6.75490802e-23 3.06107879e-19 1.71363232e-22\n",
      "  1.07973601e-22 5.20439476e-17 9.60448392e-20 1.61899910e-12\n",
      "  2.16393084e-10 2.62756599e-33 4.68673463e-18 9.88590591e-22\n",
      "  2.37304650e-19 1.18834382e-30 4.47728778e-17 2.17195037e-16\n",
      "  9.87881853e-22 1.85315602e-03 4.66885031e-05 2.96877213e-16\n",
      "  1.03176665e-21 4.95301308e-25 2.00087787e-04 1.10799927e-04\n",
      "  1.42591600e-13 1.77480644e-07 1.42081551e-12 1.17288460e-12\n",
      "  5.73125667e-14 6.01630562e-17 9.16311804e-10 9.17105727e-21\n",
      "  3.87449717e-09 1.22327956e-18 5.43603028e-06 1.04550906e-17\n",
      "  1.18446610e-06 2.02816297e-09 3.72002429e-09 3.23349153e-10\n",
      "  1.16375981e-30 1.00373010e-09 6.71619060e-22 3.01976940e-17\n",
      "  5.99792126e-19 1.35337896e-21 1.87313142e-12 3.43983620e-02\n",
      "  3.73375318e-19 2.58259088e-17 3.26448111e-22 2.35014113e-12\n",
      "  3.12837674e-13 8.25478288e-04 2.27957971e-05 2.82926089e-03\n",
      "  1.13584882e-13 1.26530800e-03 9.31740507e-20 8.26495310e-17\n",
      "  2.66761919e-08 1.33546854e-16 2.06478915e-22 5.24163558e-31\n",
      "  1.77434135e-20 7.42187751e-14 1.40714343e-10 2.84644575e-05\n",
      "  3.05654306e-04 6.60166233e-09 7.25168526e-01 1.42913703e-13\n",
      "  1.69908017e-08 1.20346420e-04 8.68077623e-05 1.06974284e-07\n",
      "  1.83198573e-12 7.94282969e-05 1.26261772e-12 4.28624982e-16\n",
      "  3.35172326e-24 1.00845187e-18 6.37290897e-25]]\n"
     ]
    },
    {
     "data": {
      "image/png": "[encoded data removed]",
      "text/plain": [
       "<Figure size 432x288 with 1 Axes>"
      ]
     },
     "metadata": {
      "needs_background": "light"
     },
     "output_type": "display_data"
    }
   ],
   "source": [
    "import matplotlib.pyplot as plt\n",
    "x_batch, y_batch = next(train_generator)\n",
    "for i in range (0,1):\n",
    "    image = x_batch[i]\n",
    "    label = y_batch[i]\n",
    "    print (label)\n",
    "    print(numpy.array([image]))\n",
    "    print(fruit_model.predict(numpy.array([image])))\n",
    "    plt.imshow(image)\n",
    "    plt.show()"
   ]
  },
  {
   "cell_type": "code",
   "execution_count": 67,
   "metadata": {},
   "outputs": [
    {
     "data": {
      "text/plain": [
       "<matplotlib.image.AxesImage at 0x16af4055b88>"
      ]
     },
     "execution_count": 67,
     "metadata": {},
     "output_type": "execute_result"
    },
    {
     "data": {
      "image/png": "[encoded data removed]",
      "text/plain": [
       "<Figure size 432x288 with 1 Axes>"
      ]
     },
     "metadata": {
      "needs_background": "light"
     },
     "output_type": "display_data"
    }
   ],
   "source": [
    "import matplotlib.pyplot as plt\n",
    "\n",
    "#img = plt.imread('walnut.jpg')\n",
    "#img = plt.imread('apple.jpg')\n",
    "img = plt.imread('banana.jpg')\n",
    "rows,cols,colors = img.shape # gives dimensions for RGB array\n",
    "img_size = rows*cols*colors\n",
    "img_1D_vector = img.reshape(img_size)\n",
    "# you can recover the orginal image with:\n",
    "img2 = img_1D_vector.reshape(rows,cols,colors)\n",
    "img2=img2*(1./255)\n",
    "img2 = numpy.expand_dims(img2, axis=0)\n",
    "fruit_model.predict(img2)\n",
    "plt.imshow(img)"
   ]
  },
  {
   "cell_type": "code",
   "execution_count": 68,
   "metadata": {},
   "outputs": [
    {
     "data": {
      "text/plain": [
       "16"
      ]
     },
     "execution_count": 68,
     "metadata": {},
     "output_type": "execute_result"
    }
   ],
   "source": [
    "maxindex=numpy.argmax(fruit_model.predict(img2))\n",
    "maxindex"
   ]
  },
  {
   "cell_type": "code",
   "execution_count": null,
   "metadata": {},
   "outputs": [],
   "source": []
  }
 ],
 "metadata": {
  "kernelspec": {
   "display_name": "Python 3",
   "language": "python",
   "name": "python3"
  },
  "language_info": {
   "codemirror_mode": {
    "name": "ipython",
    "version": 3
   },
   "file_extension": ".py",
   "mimetype": "text/x-python",
   "name": "python",
   "nbconvert_exporter": "python",
   "pygments_lexer": "ipython3",
   "version": "3.7.6"
  }
 },
 "nbformat": 4,
 "nbformat_minor": 4
}
